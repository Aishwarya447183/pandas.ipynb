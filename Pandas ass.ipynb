{
 "cells": [
  {
   "cell_type": "code",
   "execution_count": null,
   "id": "70f831a7-1c61-4f2d-a83b-c756ec9ed690",
   "metadata": {},
   "outputs": [],
   "source": [
    "##Q1.\n",
    "\n",
    "Sure, here are five functions of the Pandas library in Python along with their execution:\n",
    "\n",
    "1.pd.read_csv(): This function is used to read data from a CSV file and create a DataFrame object.\n",
    "\n",
    "Example:\n",
    "\n",
    "import pandas as pd\n",
    "data = pd.read_csv('data.csv')\n",
    "print(data.head())\n",
    "\n",
    "\n",
    "2.pd.DataFrame(): This function is used to create a DataFrame object from a list, dictionary, or NumPy array.\n",
    "\n",
    "Example:\n",
    "\n",
    "import pandas as pd\n",
    "data = {'Name': ['John', 'Alice', 'Bob'], 'Age': [25, 30, 35]}\n",
    "df = pd.DataFrame(data)\n",
    "print(df)\n",
    "\n",
    "\n",
    "3.df.head(): This function is used to display the first few rows of a DataFrame.\n",
    "\n",
    "Example:\n",
    "    \n",
    "import pandas as pd\n",
    "data = {'Name': ['John', 'Alice', 'Bob'], 'Age': [25, 30, 35]}\n",
    "df = pd.DataFrame(data)\n",
    "print(df.head())\n",
    "    \n",
    "4.df.info(): This function is used to display the information about a DataFrame, such as the column names, data types, and number of non-null values.\n",
    "\n",
    "Example:\n",
    "\n",
    "import pandas as pd\n",
    "data = {'Name': ['John', 'Alice', 'Bob'], 'Age': [25, 30, 35]}\n",
    "df = pd.DataFrame(data)\n",
    "print(df.info())\n",
    "\n",
    "\n",
    "5.df.groupby(): This function is used to group the rows of a DataFrame based on one or more columns.\n",
    "\n",
    "Example:\n",
    "    \n",
    "import pandas as pd\n",
    "data = {'Name': ['John', 'Alice', 'Bob', 'Alice', 'John'], 'Age': [25, 30, 35, 30, 25]}\n",
    "df = pd.DataFrame(data)\n",
    "grouped = df.groupby('Name')\n",
    "print(grouped.mean())\n"
   ]
  },
  {
   "cell_type": "code",
   "execution_count": 1,
   "id": "cc791a9c-a4d8-47d6-b230-4cd9f4120c50",
   "metadata": {},
   "outputs": [
    {
     "name": "stdout",
     "output_type": "stream",
     "text": [
      "   A  B  C\n",
      "0  1  4  7\n",
      "1  2  5  8\n",
      "2  3  6  9\n"
     ]
    }
   ],
   "source": [
    "##Q2.\n",
    "\n",
    "#Sure, here is an example function that can re-index a Pandas DataFrame df with a new index that starts from 1 and increments by 2 for each row:\n",
    "\n",
    "import pandas as pd\n",
    "\n",
    "def reindex_dataframe(df):\n",
    "    new_index = range(1, 2*len(df)+1, 2)\n",
    "    df.index = new_index\n",
    "    return df\n",
    "\n",
    "#This function takes a Pandas DataFrame df as its input and creates a new index that starts from 1 and increments by 2 for each row. The new index is then assigned to the DataFrame and the updated DataFrame is returned as output.\n",
    "\n",
    "#Here's an example of how to use this function with a sample DataFrame:\n",
    "df = pd.DataFrame({'A': [1, 2, 3], 'B': [4, 5, 6], 'C': [7, 8, 9]})\n",
    "print(df)\n",
    "\n"
   ]
  },
  {
   "cell_type": "code",
   "execution_count": 2,
   "id": "381503a6-3145-469a-8ab1-a0e84d8dd1b1",
   "metadata": {},
   "outputs": [
    {
     "name": "stdout",
     "output_type": "stream",
     "text": [
      "   A  B  C\n",
      "1  1  4  7\n",
      "3  2  5  8\n",
      "5  3  6  9\n"
     ]
    }
   ],
   "source": [
    "df = reindex_dataframe(df)\n",
    "print(df)\n"
   ]
  },
  {
   "cell_type": "code",
   "execution_count": null,
   "id": "08d18a7c-d144-4f4b-b921-0fa7dcb0d127",
   "metadata": {},
   "outputs": [],
   "source": [
    "As you can see, the DataFrame has been re-indexed with a new index that starts from 1 and increments by 2 for each row."
   ]
  },
  {
   "cell_type": "code",
   "execution_count": 6,
   "id": "a354f468-5443-4c6d-9d21-e78abdb477df",
   "metadata": {},
   "outputs": [
    {
     "name": "stdout",
     "output_type": "stream",
     "text": [
      "The sum of the first three values in the 'Values' column is: 60\n"
     ]
    }
   ],
   "source": [
    "##Q3.\n",
    "\n",
    "#Here's a Python function that should do what you're looking for:\n",
    "\n",
    "import pandas as pd\n",
    "\n",
    "def calculate_sum(df):\n",
    "    sum_of_first_three = df['Values'].iloc[:3].sum()\n",
    "    print(\"The sum of the first three values in the 'Values' column is:\", sum_of_first_three) \n",
    "#This function takes a Pandas DataFrame df as an argument, and then calculates the sum of the first three values in the 'Values' column using the iloc method. Finally, it prints the result to the console using the print() function.\n",
    "\n",
    "#You can call this function with your DataFrame as follows:\n",
    "\n",
    "# create a sample dataframe\n",
    "df = pd.DataFrame({'Values': [10, 20, 30, 40, 50]})\n",
    "\n",
    "# call the function\n",
    "calculate_sum(df)"
   ]
  },
  {
   "cell_type": "code",
   "execution_count": 8,
   "id": "3a3a626d-2cab-4174-9286-c36deca15678",
   "metadata": {},
   "outputs": [],
   "source": [
    "##Q4.\n",
    "\n",
    "#You can define a function that takes a DataFrame and the name of the column containing text, and then adds a new column with the word count of the text. Here's an example:\n",
    "\n",
    "import pandas as pd\n",
    "import re\n",
    "\n",
    "def add_word_count(df, text_col):\n",
    "    word_count = []\n",
    "    for text in df[text_col]:\n",
    "        words = re.findall('\\w+', text)\n",
    "        word_count.append(len(words))\n",
    "    df['Word_Count'] = word_count\n",
    "    return df\n"
   ]
  },
  {
   "cell_type": "code",
   "execution_count": 10,
   "id": "d6708e9e-fdec-4978-b5d2-2603a2239330",
   "metadata": {},
   "outputs": [],
   "source": [
    "#The add_word_count function takes two arguments: df, which is the DataFrame containing the text, and text_col, which is the name of the column containing the text.\n",
    "\n",
    "#In the function, we first create an empty list word_count to store the word count of each row. We then loop through each row in the DataFrame and extract the words using the re.findall method, which finds all non-overlapping matches of the regular expression '\\w+', which matches any word character. We then append the length of the resulting list to word_count.\n",
    "\n",
    "#Finally, we add a new column 'Word_Count' to the DataFrame df with the values from word_count and return the modified DataFrame.\n",
    "\n",
    "#You can call the function like this:\n",
    "\n"
   ]
  },
  {
   "cell_type": "code",
   "execution_count": 11,
   "id": "50844d9f-fa18-464b-a032-48f0fb488957",
   "metadata": {},
   "outputs": [
    {
     "name": "stdout",
     "output_type": "stream",
     "text": [
      "                  Text  Word_Count\n",
      "0  This is a sentence.           4\n",
      "1    Another sentence.           2\n"
     ]
    }
   ],
   "source": [
    "df = pd.DataFrame({'Text': ['This is a sentence.', 'Another sentence.']})\n",
    "df = add_word_count(df, 'Text')\n",
    "print(df)"
   ]
  },
  {
   "cell_type": "code",
   "execution_count": 12,
   "id": "06866ee0-cc52-48de-bb95-5f1d495f58b5",
   "metadata": {},
   "outputs": [
    {
     "name": "stdout",
     "output_type": "stream",
     "text": [
      "6\n"
     ]
    }
   ],
   "source": [
    "###Q5.\n",
    "\n",
    "#DataFrame.size() and DataFrame.shape() are both methods of a pandas DataFrame, but they serve different purposes.\n",
    "\n",
    "#DataFrame.size() returns the total number of elements in a DataFrame, which is equal to the product of the number of rows and the number of columns. This method returns a single integer value.\n",
    "\n",
    "import pandas as pd\n",
    "\n",
    "df = pd.DataFrame({'A': [1, 2, 3], 'B': [4, 5, 6]})\n",
    "print(df.size)\n"
   ]
  },
  {
   "cell_type": "code",
   "execution_count": 13,
   "id": "e37e8cbf-4f9d-41c7-918e-86ba3be1e573",
   "metadata": {},
   "outputs": [],
   "source": [
    "#In the above example, the DataFrame has 2 columns and 3 rows, so the total number of elements is 2 x 3 = 6.\n",
    "\n",
    "#On the other hand, DataFrame.shape() returns a tuple representing the dimensions of the DataFrame. The first element of the tuple is the number of rows, and the second element is the number of columns.\n",
    "\n"
   ]
  },
  {
   "cell_type": "code",
   "execution_count": 14,
   "id": "83102f2f-c159-48d7-b665-1c8ba64b23da",
   "metadata": {},
   "outputs": [
    {
     "name": "stdout",
     "output_type": "stream",
     "text": [
      "(3, 2)\n"
     ]
    }
   ],
   "source": [
    "import pandas as pd\n",
    "\n",
    "df = pd.DataFrame({'A': [1, 2, 3], 'B': [4, 5, 6]})\n",
    "print(df.shape)\n"
   ]
  },
  {
   "cell_type": "code",
   "execution_count": null,
   "id": "ba57eb96-029c-4ac7-8ed4-cc29370d39dc",
   "metadata": {},
   "outputs": [],
   "source": [
    "In the above example, the DataFrame has 2 columns and 3 rows, so the shape tuple is (3, 2).\n",
    "\n",
    "So, to summarize, DataFrame.size() returns the total number of elements in a DataFrame, while DataFrame.shape() returns a tuple representing the dimensions of the DataFrame.\n"
   ]
  },
  {
   "cell_type": "code",
   "execution_count": null,
   "id": "022e7f2e-308d-4d28-b441-cf26ca8623fc",
   "metadata": {},
   "outputs": [],
   "source": [
    "###Q6.\n",
    "\n",
    "#To read an Excel file in pandas, you can use the pandas.read_excel() function.\n",
    "\n",
    "#Here's an example of how to use it:\n",
    "\n",
    "import pandas as pd\n",
    "\n",
    "# read Excel file into a pandas DataFrame\n",
    "df = pd.read_excel('filename.xlsx')\n",
    "\n",
    "# display the first 5 rows of the DataFrame\n",
    "print(df.head())"
   ]
  },
  {
   "cell_type": "code",
   "execution_count": null,
   "id": "a68a7a42-2ebc-4895-927b-6407cd211a40",
   "metadata": {},
   "outputs": [],
   "source": [
    "In this example, pd.read_excel() reads an Excel file named \"filename.xlsx\" and returns a pandas DataFrame. You can then perform various operations on the DataFrame, such as selecting columns, filtering rows, or aggregating data.\n",
    "\n",
    "Note that pd.read_excel() can also read specific sheets from an Excel file by specifying the sheet name or index using the sheet_name parameter. You can also skip rows or columns, specify the header row, and many other options using the additional parameters of pd.read_excel()."
   ]
  },
  {
   "cell_type": "code",
   "execution_count": 17,
   "id": "4e975c90-0e5a-4b27-8d87-a55f226674af",
   "metadata": {},
   "outputs": [
    {
     "ename": "KeyError",
     "evalue": "'Email'",
     "output_type": "error",
     "traceback": [
      "\u001b[0;31m---------------------------------------------------------------------------\u001b[0m",
      "\u001b[0;31mKeyError\u001b[0m                                  Traceback (most recent call last)",
      "File \u001b[0;32m/opt/conda/lib/python3.10/site-packages/pandas/core/indexes/base.py:3803\u001b[0m, in \u001b[0;36mIndex.get_loc\u001b[0;34m(self, key, method, tolerance)\u001b[0m\n\u001b[1;32m   3802\u001b[0m \u001b[38;5;28;01mtry\u001b[39;00m:\n\u001b[0;32m-> 3803\u001b[0m     \u001b[38;5;28;01mreturn\u001b[39;00m \u001b[38;5;28;43mself\u001b[39;49m\u001b[38;5;241;43m.\u001b[39;49m\u001b[43m_engine\u001b[49m\u001b[38;5;241;43m.\u001b[39;49m\u001b[43mget_loc\u001b[49m\u001b[43m(\u001b[49m\u001b[43mcasted_key\u001b[49m\u001b[43m)\u001b[49m\n\u001b[1;32m   3804\u001b[0m \u001b[38;5;28;01mexcept\u001b[39;00m \u001b[38;5;167;01mKeyError\u001b[39;00m \u001b[38;5;28;01mas\u001b[39;00m err:\n",
      "File \u001b[0;32m/opt/conda/lib/python3.10/site-packages/pandas/_libs/index.pyx:138\u001b[0m, in \u001b[0;36mpandas._libs.index.IndexEngine.get_loc\u001b[0;34m()\u001b[0m\n",
      "File \u001b[0;32m/opt/conda/lib/python3.10/site-packages/pandas/_libs/index.pyx:165\u001b[0m, in \u001b[0;36mpandas._libs.index.IndexEngine.get_loc\u001b[0;34m()\u001b[0m\n",
      "File \u001b[0;32mpandas/_libs/hashtable_class_helper.pxi:5745\u001b[0m, in \u001b[0;36mpandas._libs.hashtable.PyObjectHashTable.get_item\u001b[0;34m()\u001b[0m\n",
      "File \u001b[0;32mpandas/_libs/hashtable_class_helper.pxi:5753\u001b[0m, in \u001b[0;36mpandas._libs.hashtable.PyObjectHashTable.get_item\u001b[0;34m()\u001b[0m\n",
      "\u001b[0;31mKeyError\u001b[0m: 'Email'",
      "\nThe above exception was the direct cause of the following exception:\n",
      "\u001b[0;31mKeyError\u001b[0m                                  Traceback (most recent call last)",
      "Cell \u001b[0;32mIn[17], line 14\u001b[0m\n\u001b[1;32m      8\u001b[0m     \u001b[38;5;28;01mreturn\u001b[39;00m email\u001b[38;5;241m.\u001b[39msplit(\u001b[38;5;124m'\u001b[39m\u001b[38;5;124m@\u001b[39m\u001b[38;5;124m'\u001b[39m)[\u001b[38;5;241m0\u001b[39m]\n\u001b[1;32m     10\u001b[0m \u001b[38;5;66;03m#This function takes an email address as input, splits it at the '@' symbol, and returns the first part of the resulting list, which is the username.\u001b[39;00m\n\u001b[1;32m     11\u001b[0m \n\u001b[1;32m     12\u001b[0m \u001b[38;5;66;03m#You can apply this function to the 'Email' column of the DataFrame using the apply() method and assign the result to a new column 'Username' in the same DataFrame:\u001b[39;00m\n\u001b[0;32m---> 14\u001b[0m df[\u001b[38;5;124m'\u001b[39m\u001b[38;5;124mUsername\u001b[39m\u001b[38;5;124m'\u001b[39m] \u001b[38;5;241m=\u001b[39m \u001b[43mdf\u001b[49m\u001b[43m[\u001b[49m\u001b[38;5;124;43m\"\u001b[39;49m\u001b[38;5;124;43mEmail\u001b[39;49m\u001b[38;5;124;43m\"\u001b[39;49m\u001b[43m]\u001b[49m\u001b[38;5;241m.\u001b[39mapply(extract_username)\n\u001b[1;32m     16\u001b[0m \u001b[38;5;66;03m#This code creates a new column 'Username' in the DataFrame df that contains the usernames extracted from the 'Email' column using the extract_username() function.\u001b[39;00m\n\u001b[1;32m     17\u001b[0m \n\u001b[1;32m     18\u001b[0m \u001b[38;5;66;03m#Here's the complete code:\u001b[39;00m\n",
      "File \u001b[0;32m/opt/conda/lib/python3.10/site-packages/pandas/core/frame.py:3805\u001b[0m, in \u001b[0;36mDataFrame.__getitem__\u001b[0;34m(self, key)\u001b[0m\n\u001b[1;32m   3803\u001b[0m \u001b[38;5;28;01mif\u001b[39;00m \u001b[38;5;28mself\u001b[39m\u001b[38;5;241m.\u001b[39mcolumns\u001b[38;5;241m.\u001b[39mnlevels \u001b[38;5;241m>\u001b[39m \u001b[38;5;241m1\u001b[39m:\n\u001b[1;32m   3804\u001b[0m     \u001b[38;5;28;01mreturn\u001b[39;00m \u001b[38;5;28mself\u001b[39m\u001b[38;5;241m.\u001b[39m_getitem_multilevel(key)\n\u001b[0;32m-> 3805\u001b[0m indexer \u001b[38;5;241m=\u001b[39m \u001b[38;5;28;43mself\u001b[39;49m\u001b[38;5;241;43m.\u001b[39;49m\u001b[43mcolumns\u001b[49m\u001b[38;5;241;43m.\u001b[39;49m\u001b[43mget_loc\u001b[49m\u001b[43m(\u001b[49m\u001b[43mkey\u001b[49m\u001b[43m)\u001b[49m\n\u001b[1;32m   3806\u001b[0m \u001b[38;5;28;01mif\u001b[39;00m is_integer(indexer):\n\u001b[1;32m   3807\u001b[0m     indexer \u001b[38;5;241m=\u001b[39m [indexer]\n",
      "File \u001b[0;32m/opt/conda/lib/python3.10/site-packages/pandas/core/indexes/base.py:3805\u001b[0m, in \u001b[0;36mIndex.get_loc\u001b[0;34m(self, key, method, tolerance)\u001b[0m\n\u001b[1;32m   3803\u001b[0m     \u001b[38;5;28;01mreturn\u001b[39;00m \u001b[38;5;28mself\u001b[39m\u001b[38;5;241m.\u001b[39m_engine\u001b[38;5;241m.\u001b[39mget_loc(casted_key)\n\u001b[1;32m   3804\u001b[0m \u001b[38;5;28;01mexcept\u001b[39;00m \u001b[38;5;167;01mKeyError\u001b[39;00m \u001b[38;5;28;01mas\u001b[39;00m err:\n\u001b[0;32m-> 3805\u001b[0m     \u001b[38;5;28;01mraise\u001b[39;00m \u001b[38;5;167;01mKeyError\u001b[39;00m(key) \u001b[38;5;28;01mfrom\u001b[39;00m \u001b[38;5;21;01merr\u001b[39;00m\n\u001b[1;32m   3806\u001b[0m \u001b[38;5;28;01mexcept\u001b[39;00m \u001b[38;5;167;01mTypeError\u001b[39;00m:\n\u001b[1;32m   3807\u001b[0m     \u001b[38;5;66;03m# If we have a listlike key, _check_indexing_error will raise\u001b[39;00m\n\u001b[1;32m   3808\u001b[0m     \u001b[38;5;66;03m#  InvalidIndexError. Otherwise we fall through and re-raise\u001b[39;00m\n\u001b[1;32m   3809\u001b[0m     \u001b[38;5;66;03m#  the TypeError.\u001b[39;00m\n\u001b[1;32m   3810\u001b[0m     \u001b[38;5;28mself\u001b[39m\u001b[38;5;241m.\u001b[39m_check_indexing_error(key)\n",
      "\u001b[0;31mKeyError\u001b[0m: 'Email'"
     ]
    }
   ],
   "source": [
    "###Q7.\n",
    "\n",
    "#You can use the apply() method of a Pandas DataFrame to apply a function to each element of a column. In this case, you can define a function to extract the username from an email address and apply it to the 'Email' column to create the new 'Username' column.\n",
    "\n",
    "#Here's an example function that extracts the username from an email address:\n",
    "\n",
    "def extract_username(email):\n",
    "    return email.split('@')[0]\n",
    "\n",
    "#This function takes an email address as input, splits it at the '@' symbol, and returns the first part of the resulting list, which is the username.\n",
    "\n",
    "#You can apply this function to the 'Email' column of the DataFrame using the apply() method and assign the result to a new column 'Username' in the same DataFrame:\n",
    "\n",
    "df['Username'] = df[\"Email\"].apply(extract_username)\n",
    "    \n",
    "#This code creates a new column 'Username' in the DataFrame df that contains the usernames extracted from the 'Email' column using the extract_username() function.\n",
    "\n",
    "#Here's the complete code:\n",
    "\n"
   ]
  },
  {
   "cell_type": "code",
   "execution_count": 18,
   "id": "5a5a4f03-bc36-4cb0-b228-15a555ae957c",
   "metadata": {},
   "outputs": [
    {
     "name": "stdout",
     "output_type": "stream",
     "text": [
      "                  Email  Username\n",
      "0  john.doe@example.com  john.doe\n",
      "1  jane.doe@example.com  jane.doe\n"
     ]
    }
   ],
   "source": [
    "import pandas as pd\n",
    "\n",
    "def extract_username(email):\n",
    "    return email.split('@')[0]\n",
    "\n",
    "# create a sample DataFrame\n",
    "data = {'Email': ['john.doe@example.com', 'jane.doe@example.com']}\n",
    "df = pd.DataFrame(data)\n",
    "\n",
    "# extract the username from the 'Email' column and store it in a new 'Username' column\n",
    "df['Username'] = df['Email'].apply(extract_username)\n",
    "\n",
    "print(df)\n"
   ]
  },
  {
   "cell_type": "code",
   "execution_count": 20,
   "id": "e031bb70-8143-4202-8b55-f69293cd3fcf",
   "metadata": {},
   "outputs": [],
   "source": [
    "###Q8.\n",
    "\n",
    "#You can define a function that takes in the DataFrame as an argument, and applies boolean indexing to select the desired rows:\n",
    "\n",
    "import pandas as pd\n",
    "\n",
    "def select_rows(df):\n",
    "    # boolean indexing to select rows where A > 5 and B < 10\n",
    "    selected_rows = df[(df['A'] > 5) & (df['B'] < 10)]\n",
    "    return selected_rows"
   ]
  },
  {
   "cell_type": "code",
   "execution_count": 21,
   "id": "0ecca6ca-c493-413c-bc7f-4fedf65f9fdb",
   "metadata": {},
   "outputs": [
    {
     "name": "stdout",
     "output_type": "stream",
     "text": [
      "   A  B  C\n",
      "1  8  2  7\n",
      "2  6  9  4\n",
      "4  9  1  2\n"
     ]
    }
   ],
   "source": [
    "#You can then apply this function to your example DataFrame:\n",
    "\n",
    "df = pd.DataFrame({'A': [3, 8, 6, 2, 9], 'B': [5, 2, 9, 3, 1], 'C': [1, 7, 4, 5, 2]})\n",
    "selected_df = select_rows(df)\n",
    "print(selected_df)\n"
   ]
  },
  {
   "cell_type": "code",
   "execution_count": 22,
   "id": "d9c0db64-e09b-45ab-9e94-a2c34d6b2eb5",
   "metadata": {},
   "outputs": [],
   "source": [
    "###Q9.\n",
    "\n",
    "#Given a Pandas DataFrame df with a column 'Values', you can define a function that calculates the following statistics:\n",
    "\n",
    "#mean\n",
    "#median\n",
    "#standard deviation\n",
    "#minimum value\n",
    "#maximum value\n",
    "\n",
    "\n",
    "#Here's how you can define the function:\n",
    "\n",
    "import pandas as pd\n",
    "import numpy as np\n",
    "\n",
    "def calculate_statistics(df):\n",
    "    # calculate statistics\n",
    "    mean = df['Values'].mean()\n",
    "    median = df['Values'].median()\n",
    "    std_dev = df['Values'].std()\n",
    "    min_val = df['Values'].min()\n",
    "    max_val = df['Values'].max()\n",
    "    \n",
    "    # create a dictionary to store the statistics\n",
    "    stats_dict = {'mean': mean, 'median': median, 'std_dev': std_dev, 'min_val': min_val, 'max_val': max_val}\n",
    "    \n",
    "    # return the dictionary\n",
    "    return stats_dict\n",
    "\n",
    "\n",
    "#You can then apply this function to your DataFrame:\n",
    "\n"
   ]
  },
  {
   "cell_type": "code",
   "execution_count": 23,
   "id": "4eb83f03-2b65-4c7b-936d-ca1ff34f5102",
   "metadata": {},
   "outputs": [
    {
     "name": "stdout",
     "output_type": "stream",
     "text": [
      "{'mean': 5.6, 'median': 6.0, 'std_dev': 3.0495901363953815, 'min_val': 2, 'max_val': 9}\n"
     ]
    }
   ],
   "source": [
    "df = pd.DataFrame({'Values': [3, 8, 6, 2, 9]})\n",
    "stats_dict = calculate_statistics(df)\n",
    "print(stats_dict)\n"
   ]
  },
  {
   "cell_type": "code",
   "execution_count": null,
   "id": "967101ac-c202-403a-933a-d0b82c0150f1",
   "metadata": {},
   "outputs": [],
   "source": [
    "##Q10.\n",
    "\n",
    "\n",
    "#You can define a function that takes in the DataFrame as an argument, and uses the rolling method of pandas to calculate the moving average for the past 7 days:\n",
    "\n",
    "import pandas as pd\n",
    "\n",
    "def add_moving_average(df):\n",
    "    # calculate the rolling mean of the 'Sales' column with a window of 7 days\n",
    "    ma = df['Sales'].rolling(window=7, min_periods=1).mean()\n",
    "    \n",
    "    # create a new column 'MovingAverage' in the DataFrame with the calculated moving average values\n",
    "    df['MovingAverage'] = ma\n",
    "    \n",
    "    # return the updated DataFrame\n",
    "    return df\n"
   ]
  },
  {
   "cell_type": "code",
   "execution_count": null,
   "id": "d8deaa33-3299-4bf2-b55d-3b86bb430d81",
   "metadata": {},
   "outputs": [],
   "source": [
    "df = pd.DataFrame({'Date': ['2023-04-01', '2023-04-02', '2023-04-03', '2023-04-04', '2023-04-05', '2023-04-06', '2023-04-07'],\n",
    "                   'Sales': [100, 150, 200, 175, 180, 120, 80]})\n",
    "df['Date'] = pd.to_datetime(df['Date'])  # convert 'Date' column to datetime format\n",
    "df = add_moving_average(df)\n",
    "print(df)\n"
   ]
  },
  {
   "cell_type": "code",
   "execution_count": null,
   "id": "ec477882-e9fc-4859-af19-384d571eeb53",
   "metadata": {},
   "outputs": [],
   "source": [
    "Date  Sales  MovingAverage\n",
    "0 2023-04-01    100     100.000000\n",
    "1 2023-04-02    150     125.000000\n",
    "2 2023-04-03    200     150.000000\n",
    "3 2023-04-04    175     156.250000\n",
    "4 2023-04-05    180     161.000000\n",
    "5 2023-04-06    120     156.666667\n",
    "6 2023-04-07     80     142.142857\n"
   ]
  },
  {
   "cell_type": "code",
   "execution_count": 34,
   "id": "dc31b43e-27bc-411a-9c62-15017896c747",
   "metadata": {},
   "outputs": [],
   "source": [
    "##Q11.\n",
    "\n",
    "#You can define a function that takes in the DataFrame as an argument, and uses the dt accessor of pandas to extract the weekday name corresponding to each date in the 'Date' column:\n",
    "\n",
    "import pandas as pd\n",
    "\n",
    "def add_weekday(df):\n",
    "    # extract weekday name from 'Date' column using the dt accessor\n",
    "    weekday = df['Date'].dt.weekday_name\n",
    "    \n",
    "    # create a new column 'Weekday' in the DataFrame with the weekday name values\n",
    "    df['Weekday'] = weekday\n",
    "    \n",
    "    # return the updated DataFrame\n",
    "    return df\n",
    "    "
   ]
  },
  {
   "cell_type": "code",
   "execution_count": null,
   "id": "e3707894-0c3d-4039-8c14-f3e012dab8d2",
   "metadata": {},
   "outputs": [],
   "source": [
    "df = pd.DataFrame({'Date': ['2023-01-01', '2023-01-02', '2023-01-03', '2023-01-04', '2023-01-05']})\n",
    "df['Date'] = pd.to_datetime(df['Date'])  # convert 'Date' column to datetime format\n",
    "df = add_weekday(df)\n",
    "print(df)"
   ]
  },
  {
   "cell_type": "code",
   "execution_count": null,
   "id": "18675db4-cfd7-4fcd-8fef-219536b5946a",
   "metadata": {},
   "outputs": [],
   "source": [
    "      Date    Weekday\n",
    "0 2023-01-01     Sunday\n",
    "1 2023-01-02     Monday\n",
    "2 2023-01-03    Tuesday\n",
    "3 2023-01-04  Wednesday\n",
    "4 2023-01-05   Thursday"
   ]
  },
  {
   "cell_type": "code",
   "execution_count": 38,
   "id": "45f80c87-d264-49e0-a9d4-dcabe30c976d",
   "metadata": {},
   "outputs": [],
   "source": [
    "##Q12.\n",
    "\n",
    "#You can define a function that takes in the DataFrame as an argument, and uses the dt accessor of pandas to extract the hour component of the timestamps in the 'Date' column:\n",
    "\n",
    "import pandas as pd\n",
    "\n",
    "def extract_hour(df):\n",
    "    # extract hour from 'Date' column using the dt accessor\n",
    "    hour = df['Date'].dt.hour\n",
    "    \n",
    "    # return the hour values as a separate Series\n",
    "    return hour\n"
   ]
  },
  {
   "cell_type": "code",
   "execution_count": 39,
   "id": "7c389d0f-14e2-4f1d-81ef-be4ac3e7d87a",
   "metadata": {},
   "outputs": [
    {
     "name": "stdout",
     "output_type": "stream",
     "text": [
      "0    12\n",
      "1    13\n",
      "2    18\n",
      "3    21\n",
      "Name: Date, dtype: int64\n"
     ]
    }
   ],
   "source": [
    "df = pd.DataFrame({'Date': ['2023-04-03 12:15:00', '2023-04-03 13:30:00', '2023-04-03 18:45:00', '2023-04-03 21:00:00']})\n",
    "df['Date'] = pd.to_datetime(df['Date'])  # convert 'Date' column to datetime format\n",
    "hour = extract_hour(df)\n",
    "print(hour)"
   ]
  },
  {
   "cell_type": "code",
   "execution_count": 40,
   "id": "91a31ccd-a612-411d-b8ef-e3698f6d400a",
   "metadata": {},
   "outputs": [
    {
     "name": "stdout",
     "output_type": "stream",
     "text": [
      "                 Date  Hour\n",
      "0 2023-04-03 12:15:00    12\n",
      "1 2023-04-03 13:30:00    13\n",
      "2 2023-04-03 18:45:00    18\n",
      "3 2023-04-03 21:00:00    21\n"
     ]
    }
   ],
   "source": [
    "df['Hour'] = extract_hour(df)\n",
    "print(df)\n"
   ]
  },
  {
   "cell_type": "code",
   "execution_count": null,
   "id": "4e24bf51-5149-4f19-be4c-d99f7a16ada6",
   "metadata": {},
   "outputs": [],
   "source": [
    "##Q13.\n",
    "\n",
    "The first and foremost library that needs to be imported to use the basic functions of pandas is pandas itself.\n",
    "\n",
    "You can import pandas with the following line of code:"
   ]
  },
  {
   "cell_type": "code",
   "execution_count": null,
   "id": "571662e8-f761-487c-a4aa-4bb573da8377",
   "metadata": {},
   "outputs": [],
   "source": []
  }
 ],
 "metadata": {
  "kernelspec": {
   "display_name": "Python 3 (ipykernel)",
   "language": "python",
   "name": "python3"
  },
  "language_info": {
   "codemirror_mode": {
    "name": "ipython",
    "version": 3
   },
   "file_extension": ".py",
   "mimetype": "text/x-python",
   "name": "python",
   "nbconvert_exporter": "python",
   "pygments_lexer": "ipython3",
   "version": "3.10.8"
  }
 },
 "nbformat": 4,
 "nbformat_minor": 5
}
